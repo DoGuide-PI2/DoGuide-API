{
 "cells": [
  {
   "cell_type": "markdown",
   "id": "d7d7fb69",
   "metadata": {},
   "source": [
    "### Importando Libs"
   ]
  },
  {
   "cell_type": "code",
   "execution_count": 5,
   "id": "ac2ba3fd",
   "metadata": {},
   "outputs": [],
   "source": [
    "# Some basic setup:\n",
    "# Setup detectron2 logger\n",
    "import detectron2\n",
    "from detectron2.utils.logger import setup_logger\n",
    "setup_logger()\n",
    "\n",
    "# import some common libraries\n",
    "import numpy as np\n",
    "import os, json, cv2, random\n",
    "#from google.colab.patches import cv2_imshow\n",
    "\n",
    "# import some common detectron2 utilities\n",
    "from detectron2 import model_zoo\n",
    "from detectron2.engine import DefaultPredictor\n",
    "from detectron2.config import get_cfg\n",
    "from detectron2.utils.visualizer import Visualizer\n",
    "from detectron2.data import MetadataCatalog, DatasetCatalog\n",
    "\n",
    "from IPython.display import Image\n",
    "from base64 import b64decode"
   ]
  },
  {
   "cell_type": "markdown",
   "id": "59937b7c",
   "metadata": {},
   "source": [
    "## Detecção com Imagem"
   ]
  },
  {
   "cell_type": "code",
   "execution_count": 10,
   "id": "2e718c3f",
   "metadata": {},
   "outputs": [],
   "source": [
    "im = cv2.imread(\"./images/frame_example.png\")\n",
    "cv2.imshow('Imagem', im)\n",
    "cv2.waitKey(0)\n",
    "cv2.destroyAllWindows()"
   ]
  },
  {
   "cell_type": "code",
   "execution_count": 11,
   "id": "1bf0eb33",
   "metadata": {},
   "outputs": [
    {
     "name": "stderr",
     "output_type": "stream",
     "text": [
      "/home/bruno/.local/lib/python3.9/site-packages/torch/functional.py:568: UserWarning: torch.meshgrid: in an upcoming release, it will be required to pass the indexing argument. (Triggered internally at  ../aten/src/ATen/native/TensorShape.cpp:2228.)\n",
      "  return _VF.meshgrid(tensors, **kwargs)  # type: ignore[attr-defined]\n"
     ]
    }
   ],
   "source": [
    "cfg = get_cfg()\n",
    "cfg.MODEL.DEVICE = 'cpu'\n",
    "cfg.IMAGE = 0\n",
    "cfg.SEGMENTATION = 1\n",
    "cfg.IMAGE_BW = 2\n",
    "# add project-specific config (e.g., TensorMask) here if you're not running a model in detectron2's core library\n",
    "cfg.merge_from_file(model_zoo.get_config_file(\"COCO-InstanceSegmentation/mask_rcnn_R_50_FPN_3x.yaml\"))\n",
    "cfg.MODEL.ROI_HEADS.SCORE_THRESH_TEST = 0.5  # set threshold for this model\n",
    "# Find a model from detectron2's model zoo. You can use the https://dl.fbaipublicfiles... url as well\n",
    "cfg.MODEL.WEIGHTS = model_zoo.get_checkpoint_url(\"COCO-InstanceSegmentation/mask_rcnn_R_50_FPN_3x.yaml\")\n",
    "predictor = DefaultPredictor(cfg)\n",
    "outputs = predictor(im)"
   ]
  },
  {
   "cell_type": "markdown",
   "id": "9caeee1e",
   "metadata": {},
   "source": [
    "### Retorno de Segmentações"
   ]
  },
  {
   "cell_type": "code",
   "execution_count": 12,
   "id": "97ca07d1",
   "metadata": {
    "scrolled": true
   },
   "outputs": [
    {
     "name": "stdout",
     "output_type": "stream",
     "text": [
      "tensor([ 0,  0,  0,  0,  0,  2,  2,  2, 26, 26,  0])\n",
      "Boxes(tensor([[304.6222,  40.1722, 386.6615, 280.9142],\n",
      "        [  9.9539,  90.3469,  42.9587, 181.9429],\n",
      "        [195.6217,  72.0884, 274.7528, 304.6999],\n",
      "        [158.8582,  68.3018, 219.5490, 251.4310],\n",
      "        [ 97.4134,  90.6406, 118.1058, 154.1968],\n",
      "        [ 72.6743, 103.5145,  97.7883, 124.0068],\n",
      "        [112.5072, 104.0611, 126.1212, 119.0454],\n",
      "        [ 41.8538, 104.1066,  80.1266, 128.6901],\n",
      "        [ 10.6585, 124.3351,  23.9467, 146.3806],\n",
      "        [ 10.3002, 107.6865,  27.8090, 146.9231],\n",
      "        [145.9342,  60.7246, 168.7892, 109.5223]]))\n"
     ]
    }
   ],
   "source": [
    "print(outputs[\"instances\"].pred_classes)\n",
    "print(outputs[\"instances\"].pred_boxes)"
   ]
  },
  {
   "cell_type": "markdown",
   "id": "2550d4fe",
   "metadata": {},
   "source": [
    "### Visualização da Segmentação"
   ]
  },
  {
   "cell_type": "code",
   "execution_count": 14,
   "id": "c3a7851b",
   "metadata": {},
   "outputs": [],
   "source": [
    "v = Visualizer(im[:, :, ::-1], MetadataCatalog.get(cfg.DATASETS.TRAIN[0]), scale=1.2)\n",
    "out = v.draw_instance_predictions(outputs[\"instances\"].to(\"cpu\"))\n",
    "cv2.imshow('teste',out.get_image()[:, :, ::-1])\n",
    "cv2.waitKey(0)\n",
    "cv2.destroyAllWindows()"
   ]
  },
  {
   "cell_type": "markdown",
   "id": "b7bd26a0",
   "metadata": {},
   "source": [
    "## Aplicação do Algoritmo em Vídeo"
   ]
  },
  {
   "cell_type": "code",
   "execution_count": 18,
   "id": "1f4b9819",
   "metadata": {},
   "outputs": [],
   "source": [
    "import cv2\n",
    "import numpy as np\n",
    "from datetime import datetime\n",
    "\n",
    "counter_global = 0\n",
    "flag = True\n",
    "# Create a VideoCapture object and read from input file\n",
    "cap = cv2.VideoCapture('./videos/edit.mp4')\n",
    "   \n",
    "# Check if camera opened successfully\n",
    "if (cap.isOpened()== False): \n",
    "    print(\"Error opening video  file\")\n",
    "\n",
    "\n",
    "while(cap.isOpened()):\n",
    "  # Capture frame-by-frame\n",
    "    ret, frame = cap.read()\n",
    "    if ret == True:\n",
    "        \n",
    "        # Instanciando Preditor a partir do shape do frame vídeo\n",
    "        if flag:\n",
    "            cfg = get_cfg()\n",
    "            cfg.MODEL.DEVICE = 'cpu'\n",
    "            cfg.IMAGE = 0\n",
    "            cfg.SEGMENTATION = 1\n",
    "            cfg.IMAGE_BW = 2\n",
    "            # add project-specific config (e.g., TensorMask) here if you're not running a model in detectron2's core library\n",
    "            cfg.merge_from_file(model_zoo.get_config_file(\"COCO-InstanceSegmentation/mask_rcnn_R_50_FPN_3x.yaml\"))\n",
    "            cfg.MODEL.ROI_HEADS.SCORE_THRESH_TEST = 0.5  # set threshold for this model\n",
    "            # Find a model from detectron2's model zoo. You can use the https://dl.fbaipublicfiles... url as well\n",
    "            cfg.MODEL.WEIGHTS = model_zoo.get_checkpoint_url(\"COCO-InstanceSegmentation/mask_rcnn_R_50_FPN_3x.yaml\")\n",
    "            predictor = DefaultPredictor(cfg)\n",
    "            flag = False\n",
    "        \n",
    "        if( counter_global% 15== 0):\n",
    "            print('Start:', datetime.now())\n",
    "            outputs = predictor(frame)\n",
    "            print('End:', datetime.now())\n",
    "        # Predição usando modelo pré treinado\n",
    "        v = Visualizer(frame[:, :, ::-1], MetadataCatalog.get(cfg.DATASETS.TRAIN[0]), scale=1.2)\n",
    "        out = v.draw_instance_predictions(outputs[\"instances\"].to(\"cpu\"))\n",
    "        \n",
    "        # Display the resulting frame\n",
    "        cv2.imshow('Projeto Integrador 2 - Segmentacao', out.get_image()[:, :, ::-1])\n",
    "        #cv2.waitKey(0)\n",
    "        #cv2.destroyAllWindows()\n",
    "        counter_global+=1\n",
    "        # Press Q on keyboard to  exit\n",
    "        if cv2.waitKey(25) & 0xFF == ord('q'):\n",
    "            break\n",
    "   \n",
    "    # Break the loop\n",
    "    else: \n",
    "        break\n",
    "            \n",
    "\n",
    "# the video capture object\n",
    "cap.release()\n",
    "   \n",
    "# Closes all the frames\n",
    "cv2.destroyAllWindows()"
   ]
  },
  {
   "cell_type": "code",
   "execution_count": null,
   "id": "6fb4ea6b",
   "metadata": {},
   "outputs": [],
   "source": []
  },
  {
   "cell_type": "markdown",
   "id": "d22dfb24",
   "metadata": {},
   "source": [
    "## Obtendo Caminho por Imagens"
   ]
  },
  {
   "cell_type": "markdown",
   "id": "ffebc9ac",
   "metadata": {},
   "source": [
    "### Retirando Dados da Região de Segmentação"
   ]
  },
  {
   "cell_type": "code",
   "execution_count": 29,
   "id": "272d4e12",
   "metadata": {},
   "outputs": [
    {
     "name": "stdout",
     "output_type": "stream",
     "text": [
      "tensor([ 0,  0,  0,  0,  0,  2,  2,  2, 26, 26,  0])\n",
      "Boxes(tensor([[304.6222,  40.1722, 386.6615, 280.9142],\n",
      "        [  9.9539,  90.3469,  42.9587, 181.9429],\n",
      "        [195.6217,  72.0884, 274.7528, 304.6999],\n",
      "        [158.8582,  68.3018, 219.5490, 251.4310],\n",
      "        [ 97.4134,  90.6406, 118.1058, 154.1968],\n",
      "        [ 72.6743, 103.5145,  97.7883, 124.0068],\n",
      "        [112.5072, 104.0611, 126.1212, 119.0454],\n",
      "        [ 41.8538, 104.1066,  80.1266, 128.6901],\n",
      "        [ 10.6585, 124.3351,  23.9467, 146.3806],\n",
      "        [ 10.3002, 107.6865,  27.8090, 146.9231],\n",
      "        [145.9342,  60.7246, 168.7892, 109.5223]]))\n"
     ]
    },
    {
     "data": {
      "text/plain": [
       "13"
      ]
     },
     "execution_count": 29,
     "metadata": {},
     "output_type": "execute_result"
    }
   ],
   "source": [
    "imagem = 'frame_example.png'\n",
    "im = cv2.imread('./images/' + imagem)\n",
    "cv2.imshow('Imagem', im)\n",
    "cv2.waitKey(0)\n",
    "cv2.destroyAllWindows()\n",
    "\n",
    "cfg = get_cfg()\n",
    "cfg.MODEL.DEVICE = 'cpu'\n",
    "cfg.IMAGE = 0\n",
    "cfg.SEGMENTATION = 1\n",
    "cfg.IMAGE_BW = 2\n",
    "cfg.merge_from_file(model_zoo.get_config_file(\"COCO-InstanceSegmentation/mask_rcnn_R_50_FPN_3x.yaml\"))\n",
    "cfg.MODEL.ROI_HEADS.SCORE_THRESH_TEST = 0.5  # set threshold for this model\n",
    "cfg.MODEL.WEIGHTS = model_zoo.get_checkpoint_url(\"COCO-InstanceSegmentation/mask_rcnn_R_50_FPN_3x.yaml\")\n",
    "predictor = DefaultPredictor(cfg)\n",
    "outputs = predictor(im)\n",
    "\n",
    "print(outputs[\"instances\"].pred_classes)\n",
    "print(outputs[\"instances\"].pred_boxes)\n",
    "\n",
    "v = Visualizer(im[:, :, ::-1], MetadataCatalog.get(cfg.DATASETS.TRAIN[0]), scale=1.2)\n",
    "out = v.draw_instance_predictions(outputs[\"instances\"].to(\"cpu\"))\n",
    "cv2.imshow('Segmentacao',out.get_image()[:, :, ::-1])\n",
    "cv2.waitKey(0)"
   ]
  },
  {
   "cell_type": "markdown",
   "id": "c73d18b1",
   "metadata": {},
   "source": [
    "### Retirando Segmentações da Imagem"
   ]
  },
  {
   "cell_type": "code",
   "execution_count": 58,
   "id": "0c6151bb",
   "metadata": {},
   "outputs": [],
   "source": [
    "import cv2\n",
    "retangulos = outputs[\"instances\"].pred_boxes"
   ]
  },
  {
   "cell_type": "code",
   "execution_count": 59,
   "id": "5db2b594",
   "metadata": {},
   "outputs": [],
   "source": [
    "retangulos_pred = []\n",
    "for points in retangulos:\n",
    "    aux = list(map(int, points))\n",
    "    retangulos_pred.append(aux)\n"
   ]
  },
  {
   "cell_type": "code",
   "execution_count": 85,
   "id": "0abd74d4",
   "metadata": {},
   "outputs": [
    {
     "data": {
      "text/plain": [
       "[[304, 40, 386, 280],\n",
       " [9, 90, 42, 181],\n",
       " [195, 72, 274, 304],\n",
       " [158, 68, 219, 251],\n",
       " [97, 90, 118, 154],\n",
       " [72, 103, 97, 124],\n",
       " [112, 104, 126, 119],\n",
       " [41, 104, 80, 128],\n",
       " [10, 124, 23, 146],\n",
       " [10, 107, 27, 146],\n",
       " [145, 60, 168, 109]]"
      ]
     },
     "execution_count": 85,
     "metadata": {},
     "output_type": "execute_result"
    }
   ],
   "source": [
    "retangulos_pred"
   ]
  },
  {
   "cell_type": "code",
   "execution_count": 91,
   "id": "067b4fc9",
   "metadata": {},
   "outputs": [],
   "source": [
    "image = cv2.imread(\"./images/\" + imagem)\n",
    "cont = 1\n",
    "for pontos in retangulos_pred:\n",
    "    cont+=1\n",
    "\n",
    "\n",
    "    start_point = (pontos[0], pontos[1]+1000) # Esticando região do objeto\n",
    "    end_point = (pontos[2], pontos[3]-1000)\n",
    "\n",
    "    color = (0, 0, 0)\n",
    "    thickness = -1\n",
    "\n",
    "    image = cv2.rectangle(image, start_point, end_point, color, thickness)\n",
    "\n",
    "# Displaying the image \n",
    "cv2.imshow('Imagem S/ objetos', image)\n",
    "cv2.waitKey(0)\n",
    "cv2.destroyAllWindows()"
   ]
  },
  {
   "cell_type": "markdown",
   "id": "2e645991",
   "metadata": {},
   "source": [
    "## Regiões Livres de Objetos"
   ]
  },
  {
   "cell_type": "markdown",
   "id": "2ce5c0f7",
   "metadata": {},
   "source": [
    "### Pontos sem Objetos"
   ]
  },
  {
   "cell_type": "code",
   "execution_count": 120,
   "id": "893fd6ea",
   "metadata": {},
   "outputs": [],
   "source": [
    "Min = float('inf')\n",
    "Max = float('-inf')\n",
    "\n",
    "free_points = []\n",
    "for pos, im in enumerate(image[0]):\n",
    "    if list(im) != [0,0,0]:\n",
    "        Min = min(pos, Min)\n",
    "        Max = max(pos, Max)\n",
    "    else:\n",
    "        if Min != float('inf'): free_points.append([Min, Max])\n",
    "        Min, Max = float('inf'), float('-inf')\n",
    "\n",
    "if Min != float('inf'): free_points.append([Min, Max])\n",
    "        "
   ]
  },
  {
   "cell_type": "code",
   "execution_count": 121,
   "id": "3529a1ba",
   "metadata": {},
   "outputs": [
    {
     "data": {
      "text/plain": [
       "[[0, 8], [127, 144], [275, 303], [387, 421]]"
      ]
     },
     "execution_count": 121,
     "metadata": {},
     "output_type": "execute_result"
    }
   ],
   "source": [
    "free_points"
   ]
  },
  {
   "cell_type": "markdown",
   "id": "1bd1bbde",
   "metadata": {},
   "source": [
    "### Gerando Área Retangular de Livre acesso"
   ]
  },
  {
   "cell_type": "code",
   "execution_count": 122,
   "id": "4352c105",
   "metadata": {},
   "outputs": [],
   "source": [
    "free_points_rectangular = []\n",
    "for i in free_points:\n",
    "    if i[0] != i[1]:\n",
    "        free_points_rectangular.append(i)"
   ]
  },
  {
   "cell_type": "code",
   "execution_count": 123,
   "id": "ef29e453",
   "metadata": {},
   "outputs": [
    {
     "data": {
      "text/plain": [
       "[[0, 8], [127, 144], [275, 303], [387, 421]]"
      ]
     },
     "execution_count": 123,
     "metadata": {},
     "output_type": "execute_result"
    }
   ],
   "source": [
    "free_points_rectangular"
   ]
  },
  {
   "cell_type": "code",
   "execution_count": 124,
   "id": "cc3045b6",
   "metadata": {},
   "outputs": [],
   "source": [
    "for item in free_points_rectangular:\n",
    "    item.append(item[0] + len(image))\n",
    "    item.append(item[0] + len(image) + abs(item[0] - item[1]))"
   ]
  },
  {
   "cell_type": "code",
   "execution_count": 125,
   "id": "5a9c7926",
   "metadata": {},
   "outputs": [
    {
     "data": {
      "text/plain": [
       "[[0, 8, 326, 334],\n",
       " [127, 144, 453, 470],\n",
       " [275, 303, 601, 629],\n",
       " [387, 421, 713, 747]]"
      ]
     },
     "execution_count": 125,
     "metadata": {},
     "output_type": "execute_result"
    }
   ],
   "source": [
    "free_points_rectangular"
   ]
  },
  {
   "cell_type": "markdown",
   "id": "01dcc1e1",
   "metadata": {},
   "source": [
    "### Demarcação de Áreas Livres dentro das Imagem"
   ]
  },
  {
   "cell_type": "code",
   "execution_count": 127,
   "id": "e3b36baa",
   "metadata": {},
   "outputs": [],
   "source": [
    "import cv2\n",
    "for pontos in free_points_rectangular[::-1]:\n",
    "    print(pontos)\n",
    "    overlay = image.copy()\n",
    "    image = cv2.rectangle(overlay, (pontos[0], 0), (pontos[1], pontos[2]), (0, 255, 0))  # A filled rectangle\n",
    "    cv2.imshow('Iamge apontano mais uma area livre de objetos', overlay)    \n",
    "    cv2.waitKey(0)\n",
    "    cv2.destroyAllWindows()\n",
    "    \n",
    "# alpha = 0.4  # Transparency factor.\n",
    "# cv2.addWeighted(overlay, alpha, image_new, 1 - alpha, 0)\n",
    "# cv2.imshow('funfa',image_new)\n",
    "# cv2.waitKey(0)"
   ]
  },
  {
   "cell_type": "code",
   "execution_count": 4,
   "id": "c89a2394",
   "metadata": {},
   "outputs": [],
   "source": [
    "cv2.imshow('Imagem de areas liberadas', overlay)    \n",
    "cv2.waitKey(0)\n",
    "cv2.destroyAllWindows()"
   ]
  }
 ],
 "metadata": {
  "kernelspec": {
   "display_name": "Python 3 (ipykernel)",
   "language": "python",
   "name": "python3"
  },
  "language_info": {
   "codemirror_mode": {
    "name": "ipython",
    "version": 3
   },
   "file_extension": ".py",
   "mimetype": "text/x-python",
   "name": "python",
   "nbconvert_exporter": "python",
   "pygments_lexer": "ipython3",
   "version": "3.9.7"
  }
 },
 "nbformat": 4,
 "nbformat_minor": 5
}
